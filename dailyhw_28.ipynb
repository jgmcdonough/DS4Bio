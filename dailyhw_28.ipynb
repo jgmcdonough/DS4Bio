{
  "nbformat": 4,
  "nbformat_minor": 0,
  "metadata": {
    "colab": {
      "provenance": []
    },
    "kernelspec": {
      "name": "python3",
      "display_name": "Python 3"
    },
    "language_info": {
      "name": "python"
    }
  },
  "cells": [
    {
      "cell_type": "markdown",
      "source": [
        "1) one purpose for github - version control\n",
        "2) instead of storing multiple files that are named file1_version1.txt file1_version2.txt etc., you can keep track of all version through github. this is helpful for your project in case your computer crashes, a bug pops up, and other troubleshooting problems.\n",
        "3) Github can help manage collaboration because it ensures everyone is using the same version and doesn't overwrite things that cannot be reversed. It helps with multiple working on the same thing and limiting possible mistakes."
      ],
      "metadata": {
        "id": "vbaZpS0osVGt"
      }
    }
  ]
}